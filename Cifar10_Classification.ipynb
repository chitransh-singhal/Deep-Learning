{
  "nbformat": 4,
  "nbformat_minor": 0,
  "metadata": {
    "colab": {
      "provenance": [],
      "authorship_tag": "ABX9TyOwOcGrQuubJIphvtJ98UFC",
      "include_colab_link": true
    },
    "kernelspec": {
      "name": "python3",
      "display_name": "Python 3"
    },
    "language_info": {
      "name": "python"
    }
  },
  "cells": [
    {
      "cell_type": "markdown",
      "metadata": {
        "id": "view-in-github",
        "colab_type": "text"
      },
      "source": [
        "<a href=\"https://colab.research.google.com/github/chitransh-singhal/Deep-Learning/blob/master/Cifar10_Classification.ipynb\" target=\"_parent\"><img src=\"https://colab.research.google.com/assets/colab-badge.svg\" alt=\"Open In Colab\"/></a>"
      ]
    },
    {
      "cell_type": "markdown",
      "source": [
        "## Cifar10-Classification"
      ],
      "metadata": {
        "id": "sRP37obXE5vb"
      }
    },
    {
      "cell_type": "markdown",
      "source": [
        "cifar 10 Image classification using CNN<br>\n",
        "Classify the Images of the Cifar-10 Dataset using CNN"
      ],
      "metadata": {
        "id": "5jWcWD2yHJlm"
      }
    },
    {
      "cell_type": "markdown",
      "source": [
        "Importing the modules"
      ],
      "metadata": {
        "id": "NL-uJ6s6HZpp"
      }
    },
    {
      "cell_type": "code",
      "source": [
        "import numpy as np\n",
        "import matplotlib.pyplot as plt\n",
        "from tensorflow import keras\n",
        "from keras.layers import Input, Conv2D, Dense, Flatten, Dropout\n",
        "from keras.layers import GlobalMaxPooling2D, MaxPooling2D, BatchNormalization\n",
        "from keras.models import Model, Sequential"
      ],
      "metadata": {
        "id": "Q2YQ-CuSE7hL"
      },
      "execution_count": 3,
      "outputs": []
    },
    {
      "cell_type": "markdown",
      "source": [
        "Loading the image data"
      ],
      "metadata": {
        "id": "_XGo9rxAUM0x"
      }
    },
    {
      "cell_type": "code",
      "source": [
        "cifar10 = keras.datasets.cifar10"
      ],
      "metadata": {
        "id": "ziQiwW2hE7ja"
      },
      "execution_count": 4,
      "outputs": []
    },
    {
      "cell_type": "code",
      "source": [
        "(x_train,y_train),(x_test,y_test) = cifar10.load_data()\n",
        "x_train.shape"
      ],
      "metadata": {
        "colab": {
          "base_uri": "https://localhost:8080/"
        },
        "id": "STEIxYBgE7nU",
        "outputId": "81668392-c26c-49f1-d5f8-52d784364e60"
      },
      "execution_count": 5,
      "outputs": [
        {
          "output_type": "stream",
          "name": "stdout",
          "text": [
            "Downloading data from https://www.cs.toronto.edu/~kriz/cifar-10-python.tar.gz\n",
            "170498071/170498071 [==============================] - 4s 0us/step\n"
          ]
        },
        {
          "output_type": "execute_result",
          "data": {
            "text/plain": [
              "(50000, 32, 32, 3)"
            ]
          },
          "metadata": {},
          "execution_count": 5
        }
      ]
    },
    {
      "cell_type": "markdown",
      "source": [
        "Normalisation of images"
      ],
      "metadata": {
        "id": "TDV-IMk9Ukvs"
      }
    },
    {
      "cell_type": "code",
      "source": [
        "x_train, x_test = x_train/255.0, x_test/255.0\n",
        "\n",
        "y_train, y_test = y_train.flatten(), y_test.flatten()"
      ],
      "metadata": {
        "id": "GyxBYEuGE9oQ"
      },
      "execution_count": 6,
      "outputs": []
    },
    {
      "cell_type": "markdown",
      "source": [
        "sample image"
      ],
      "metadata": {
        "id": "JI27xoP2YJM5"
      }
    },
    {
      "cell_type": "code",
      "source": [
        "plt.imshow(x_train[1])"
      ],
      "metadata": {
        "colab": {
          "base_uri": "https://localhost:8080/",
          "height": 448
        },
        "id": "GswX5cPLE-n_",
        "outputId": "6287d60e-0685-44ca-dc79-893bcb874edb"
      },
      "execution_count": 7,
      "outputs": [
        {
          "output_type": "execute_result",
          "data": {
            "text/plain": [
              "<matplotlib.image.AxesImage at 0x7fc3860bd3f0>"
            ]
          },
          "metadata": {},
          "execution_count": 7
        },
        {
          "output_type": "display_data",
          "data": {
            "text/plain": [
              "<Figure size 640x480 with 1 Axes>"
            ],
            "image/png": "[encoded data removed]"
          },
          "metadata": {}
        }
      ]
    },
    {
      "cell_type": "markdown",
      "source": [
        "Defining the model"
      ],
      "metadata": {
        "id": "vFSIBfnYYLdi"
      }
    },
    {
      "cell_type": "code",
      "source": [
        "model = Sequential([\n",
        "    Conv2D(32, (3,3), activation='relu', padding='same', input_shape = x_train[0].shape),\n",
        "    BatchNormalization(),\n",
        "    Conv2D(32, (3,3), activation='relu', padding='same'),\n",
        "    MaxPooling2D((2,2)),\n",
        "    Conv2D(64, (3,3), activation='relu', padding='same'),\n",
        "    BatchNormalization(),\n",
        "    Conv2D(64, (3,3), activation='relu', padding='same'),\n",
        "    BatchNormalization(),\n",
        "    MaxPooling2D((2,2)),\n",
        "    Conv2D(128, (3,3), activation='relu', padding='same'),\n",
        "    BatchNormalization(),\n",
        "    Conv2D(128, (3,3), activation='relu', padding='same'),\n",
        "    BatchNormalization(),\n",
        "    MaxPooling2D((2,2)),\n",
        "    Flatten(),\n",
        "    Dropout(0.2),\n",
        "    Dense(1024, activation='relu'),\n",
        "    Dropout(0.2),\n",
        "    Dense(10,activation='softmax')\n",
        "])"
      ],
      "metadata": {
        "id": "1S-XtDQuYRUe"
      },
      "execution_count": 8,
      "outputs": []
    },
    {
      "cell_type": "markdown",
      "source": [
        "Model Compilation using the loss as sparse categorical crossentropy"
      ],
      "metadata": {
        "id": "RkW0Muy4jH6M"
      }
    },
    {
      "cell_type": "code",
      "source": [
        "model.compile(optimizer='adam',\n",
        "              loss='sparse_categorical_crossentropy',\n",
        "              metrics=[\"accuracy\"])"
      ],
      "metadata": {
        "id": "Lft4ne2DjHAG"
      },
      "execution_count": 9,
      "outputs": []
    },
    {
      "cell_type": "markdown",
      "source": [
        "Training the model"
      ],
      "metadata": {
        "id": "gn_C4fE9jfi4"
      }
    },
    {
      "cell_type": "code",
      "source": [
        "r = model.fit(x_train, y_train, validation_data=(x_test, y_test), epochs=25)"
      ],
      "metadata": {
        "colab": {
          "base_uri": "https://localhost:8080/"
        },
        "id": "6QZWuEDfjfEl",
        "outputId": "f52ec2d1-4c75-46f0-f3a6-c9c381129aa4"
      },
      "execution_count": 10,
      "outputs": [
        {
          "output_type": "stream",
          "name": "stdout",
          "text": [
            "Epoch 1/25\n",
            "1563/1563 [==============================] - 294s 187ms/step - loss: 1.2897 - accuracy: 0.5579 - val_loss: 1.1026 - val_accuracy: 0.6149\n",
            "Epoch 2/25\n",
            "1563/1563 [==============================] - 262s 167ms/step - loss: 0.8422 - accuracy: 0.7081 - val_loss: 0.8990 - val_accuracy: 0.6934\n",
            "Epoch 3/25\n",
            "1563/1563 [==============================] - 262s 168ms/step - loss: 0.6966 - accuracy: 0.7608 - val_loss: 0.9319 - val_accuracy: 0.6955\n",
            "Epoch 4/25\n",
            "1563/1563 [==============================] - 269s 172ms/step - loss: 0.5937 - accuracy: 0.7974 - val_loss: 0.6854 - val_accuracy: 0.7686\n",
            "Epoch 5/25\n",
            "1563/1563 [==============================] - 261s 167ms/step - loss: 0.5136 - accuracy: 0.8254 - val_loss: 0.7104 - val_accuracy: 0.7659\n",
            "Epoch 6/25\n",
            "1563/1563 [==============================] - 261s 167ms/step - loss: 0.4308 - accuracy: 0.8512 - val_loss: 0.6947 - val_accuracy: 0.7803\n",
            "Epoch 7/25\n",
            "1563/1563 [==============================] - 262s 168ms/step - loss: 0.3641 - accuracy: 0.8725 - val_loss: 0.7143 - val_accuracy: 0.7842\n",
            "Epoch 8/25\n",
            "1563/1563 [==============================] - 272s 174ms/step - loss: 0.3116 - accuracy: 0.8919 - val_loss: 0.6461 - val_accuracy: 0.8076\n",
            "Epoch 9/25\n",
            "1563/1563 [==============================] - 262s 168ms/step - loss: 0.2641 - accuracy: 0.9094 - val_loss: 0.8027 - val_accuracy: 0.7802\n",
            "Epoch 10/25\n",
            "1563/1563 [==============================] - 262s 168ms/step - loss: 0.2265 - accuracy: 0.9234 - val_loss: 0.6919 - val_accuracy: 0.8020\n",
            "Epoch 11/25\n",
            "1563/1563 [==============================] - 262s 168ms/step - loss: 0.2047 - accuracy: 0.9295 - val_loss: 0.8580 - val_accuracy: 0.7760\n",
            "Epoch 12/25\n",
            "1563/1563 [==============================] - 270s 173ms/step - loss: 0.1831 - accuracy: 0.9372 - val_loss: 0.7018 - val_accuracy: 0.8251\n",
            "Epoch 13/25\n",
            "1563/1563 [==============================] - 262s 168ms/step - loss: 0.1626 - accuracy: 0.9452 - val_loss: 0.6707 - val_accuracy: 0.8165\n",
            "Epoch 14/25\n",
            "1563/1563 [==============================] - 264s 169ms/step - loss: 0.1488 - accuracy: 0.9494 - val_loss: 0.7025 - val_accuracy: 0.8243\n",
            "Epoch 15/25\n",
            "1563/1563 [==============================] - 263s 168ms/step - loss: 0.1331 - accuracy: 0.9555 - val_loss: 0.7420 - val_accuracy: 0.8205\n",
            "Epoch 16/25\n",
            "1563/1563 [==============================] - 263s 168ms/step - loss: 0.1292 - accuracy: 0.9565 - val_loss: 0.9778 - val_accuracy: 0.8035\n",
            "Epoch 17/25\n",
            "1563/1563 [==============================] - 272s 174ms/step - loss: 0.1130 - accuracy: 0.9617 - val_loss: 0.7513 - val_accuracy: 0.8256\n",
            "Epoch 18/25\n",
            "1563/1563 [==============================] - 265s 170ms/step - loss: 0.1090 - accuracy: 0.9637 - val_loss: 0.8050 - val_accuracy: 0.8301\n",
            "Epoch 19/25\n",
            "1563/1563 [==============================] - 272s 174ms/step - loss: 0.1028 - accuracy: 0.9657 - val_loss: 0.8552 - val_accuracy: 0.8252\n",
            "Epoch 20/25\n",
            "1563/1563 [==============================] - 264s 169ms/step - loss: 0.1004 - accuracy: 0.9668 - val_loss: 0.8902 - val_accuracy: 0.8147\n",
            "Epoch 21/25\n",
            "1563/1563 [==============================] - 263s 168ms/step - loss: 0.0904 - accuracy: 0.9700 - val_loss: 0.7772 - val_accuracy: 0.8316\n",
            "Epoch 22/25\n",
            "1563/1563 [==============================] - 264s 169ms/step - loss: 0.0867 - accuracy: 0.9720 - val_loss: 0.8211 - val_accuracy: 0.8283\n",
            "Epoch 23/25\n",
            "1563/1563 [==============================] - 263s 168ms/step - loss: 0.0822 - accuracy: 0.9728 - val_loss: 0.7698 - val_accuracy: 0.8265\n",
            "Epoch 24/25\n",
            "1563/1563 [==============================] - 263s 168ms/step - loss: 0.0823 - accuracy: 0.9725 - val_loss: 0.8874 - val_accuracy: 0.8281\n",
            "Epoch 25/25\n",
            "1563/1563 [==============================] - 264s 169ms/step - loss: 0.0786 - accuracy: 0.9743 - val_loss: 0.8346 - val_accuracy: 0.8358\n"
          ]
        }
      ]
    },
    {
      "cell_type": "markdown",
      "source": [
        "Evaluating the model"
      ],
      "metadata": {
        "id": "3j_4wpX7juxx"
      }
    },
    {
      "cell_type": "code",
      "source": [
        "plt.plot(r.history['accuracy'], label='acc', color='red')\n",
        "plt.plot(r.history['val_accuracy'], label='val_acc', color='green')\n",
        "plt.legend()"
      ],
      "metadata": {
        "colab": {
          "base_uri": "https://localhost:8080/",
          "height": 448
        },
        "id": "tF5IKrtGjtu1",
        "outputId": "3895dbf6-c930-4081-ed24-3005a903e429"
      },
      "execution_count": 11,
      "outputs": [
        {
          "output_type": "execute_result",
          "data": {
            "text/plain": [
              "<matplotlib.legend.Legend at 0x7fc37fc46950>"
            ]
          },
          "metadata": {},
          "execution_count": 11
        },
        {
          "output_type": "display_data",
          "data": {
            "text/plain": [
              "<Figure size 640x480 with 1 Axes>"
            ],
            "image/png": "[encoded data removed]"
          },
          "metadata": {}
        }
      ]
    }
  ]
}