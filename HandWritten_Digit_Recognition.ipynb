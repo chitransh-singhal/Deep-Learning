{
  "nbformat": 4,
  "nbformat_minor": 0,
  "metadata": {
    "colab": {
      "provenance": [],
      "authorship_tag": "ABX9TyNpNx2ntE9dk0sfhz8NIuAw",
      "include_colab_link": true
    },
    "kernelspec": {
      "name": "python3",
      "display_name": "Python 3"
    },
    "language_info": {
      "name": "python"
    }
  },
  "cells": [
    {
      "cell_type": "markdown",
      "metadata": {
        "id": "view-in-github",
        "colab_type": "text"
      },
      "source": [
        "<a href=\"https://colab.research.google.com/github/chitransh-singhal/Deep-Learning/blob/master/HandWritten_Digit_Recognition.ipynb\" target=\"_parent\"><img src=\"https://colab.research.google.com/assets/colab-badge.svg\" alt=\"Open In Colab\"/></a>"
      ]
    },
    {
      "cell_type": "markdown",
      "source": [
        "### Implementing HandWritten Digit recognition model using Tensorflow and Keras"
      ],
      "metadata": {
        "id": "3bOrxWaG4q0V"
      }
    },
    {
      "cell_type": "markdown",
      "source": [
        "Importing Dependencies"
      ],
      "metadata": {
        "id": "W1G9GJtc5HFG"
      }
    },
    {
      "cell_type": "code",
      "execution_count": 3,
      "metadata": {
        "id": "pgIsilq3aMVk"
      },
      "outputs": [],
      "source": [
        "import tensorflow as tf\n",
        "from tensorflow import keras\n",
        "from keras.datasets import mnist\n",
        "from keras.models import Sequential\n",
        "from keras.layers import Dense, Dropout, Flatten\n",
        "from keras.layers import Conv2D, MaxPooling2D\n",
        "from keras import backend as K\n",
        "import numpy as np"
      ]
    },
    {
      "cell_type": "markdown",
      "source": [
        "Loading the Mnist dataset"
      ],
      "metadata": {
        "id": "da87HRyn_U1X"
      }
    },
    {
      "cell_type": "code",
      "source": [
        "(x_train, y_train), (x_test, y_test) = mnist.load_data()\n",
        "print(x_train.shape, y_train.shape)"
      ],
      "metadata": {
        "id": "pZE0Drwib6yh",
        "colab": {
          "base_uri": "https://localhost:8080/"
        },
        "outputId": "da1430bd-bf11-43f7-b2d3-0092efcf97ea"
      },
      "execution_count": 4,
      "outputs": [
        {
          "output_type": "stream",
          "name": "stdout",
          "text": [
            "Downloading data from https://storage.googleapis.com/tensorflow/tf-keras-datasets/mnist.npz\n",
            "11490434/11490434 [==============================] - 0s 0us/step\n",
            "(60000, 28, 28) (60000,)\n"
          ]
        }
      ]
    },
    {
      "cell_type": "markdown",
      "source": [
        "Reshaping the images to a 28 x 28 matrix"
      ],
      "metadata": {
        "id": "UEoETWom_tzP"
      }
    },
    {
      "cell_type": "code",
      "source": [
        "x_train = x_train.reshape(x_train.shape[0], 28, 28, 1)\n",
        "x_test = x_test.reshape(x_test.shape[0], 28, 28, 1)\n",
        "input_shape = (28,28,1)"
      ],
      "metadata": {
        "id": "DDRk8DSP_s_p"
      },
      "execution_count": 5,
      "outputs": []
    },
    {
      "cell_type": "markdown",
      "source": [
        "Performing One hot Encoding to the Target or dependent variables"
      ],
      "metadata": {
        "id": "7wsYLpdTAHCK"
      }
    },
    {
      "cell_type": "code",
      "source": [
        "y_train = keras.utils.to_categorical(y_train, 10)\n",
        "y_test = keras.utils.to_categorical(y_test, 10)"
      ],
      "metadata": {
        "id": "0UPq0bQD_qF4"
      },
      "execution_count": 6,
      "outputs": []
    },
    {
      "cell_type": "code",
      "source": [
        "x_train = x_train.astype('float32')\n",
        "x_test = x_test.astype('float32')\n",
        "x_train /= 255\n",
        "x_test /= 255\n",
        "print('x_train shape: ', x_train.shape)\n",
        "print(x_train.shape[0], 'train samples')\n",
        "print(x_test.shape[0], 'test samples')"
      ],
      "metadata": {
        "colab": {
          "base_uri": "https://localhost:8080/"
        },
        "id": "N6KF6PKq_qC-",
        "outputId": "33118345-124c-489f-8ca1-d2055fabf6fd"
      },
      "execution_count": 7,
      "outputs": [
        {
          "output_type": "stream",
          "name": "stdout",
          "text": [
            "x_train shape:  (60000, 28, 28, 1)\n",
            "60000 train samples\n",
            "10000 test samples\n"
          ]
        }
      ]
    },
    {
      "cell_type": "markdown",
      "source": [
        "Defining Sequential Model"
      ],
      "metadata": {
        "id": "-D9ZGqHOBIA4"
      }
    },
    {
      "cell_type": "code",
      "source": [
        "batch_size = 128\n",
        "num_classes = 10\n",
        "\n",
        "model = Sequential()\n",
        "model.add(Conv2D(32, (5,5), activation='relu', input_shape = input_shape))\n",
        "model.add(MaxPooling2D(pool_size=(2,2)))\n",
        "model.add(Conv2D(32, (3,3), activation='relu'))\n",
        "model.add(MaxPooling2D(pool_size=(2,2)))\n",
        "model.add(Flatten())\n",
        "model.add(Dense(128, activation='relu'))\n",
        "model.add(Dropout(0.3))\n",
        "model.add(Dense(64, activation='relu'))\n",
        "model.add(Dropout(0.5))\n",
        "model.add(Dense(num_classes, activation='softmax'))"
      ],
      "metadata": {
        "id": "Ma_3IxUL_p-y"
      },
      "execution_count": 8,
      "outputs": []
    },
    {
      "cell_type": "markdown",
      "source": [
        "Compiling the model by mentioning the Optimizer Adadelta"
      ],
      "metadata": {
        "id": "xyFyqV7cCa1h"
      }
    },
    {
      "cell_type": "code",
      "source": [
        "model.compile(optimizer=keras.optimizers.Adadelta(),\n",
        "              loss=keras.losses.categorical_crossentropy, metrics=['accuracy'])"
      ],
      "metadata": {
        "id": "bTkFMFEl_p84"
      },
      "execution_count": 9,
      "outputs": []
    },
    {
      "cell_type": "code",
      "source": [
        "hist = model.fit(x_train, y_train, batch_size=batch_size, epochs=30,\n",
        "                 verbose=1, validation_data=(x_test, y_test))"
      ],
      "metadata": {
        "colab": {
          "base_uri": "https://localhost:8080/"
        },
        "id": "cOq3ju1A_pTi",
        "outputId": "38ada117-27bb-44b6-8cc4-d8a51f2cc98e"
      },
      "execution_count": 10,
      "outputs": [
        {
          "output_type": "stream",
          "name": "stdout",
          "text": [
            "Epoch 1/30\n",
            "469/469 [==============================] - 58s 120ms/step - loss: 2.3105 - accuracy: 0.1146 - val_loss: 2.2990 - val_accuracy: 0.1739\n",
            "Epoch 2/30\n",
            "469/469 [==============================] - 52s 111ms/step - loss: 2.3020 - accuracy: 0.1274 - val_loss: 2.2901 - val_accuracy: 0.1958\n",
            "Epoch 3/30\n",
            "469/469 [==============================] - 40s 85ms/step - loss: 2.2938 - accuracy: 0.1403 - val_loss: 2.2814 - val_accuracy: 0.2197\n",
            "Epoch 4/30\n",
            "469/469 [==============================] - 42s 90ms/step - loss: 2.2858 - accuracy: 0.1517 - val_loss: 2.2726 - val_accuracy: 0.2412\n",
            "Epoch 5/30\n",
            "469/469 [==============================] - 39s 83ms/step - loss: 2.2788 - accuracy: 0.1626 - val_loss: 2.2635 - val_accuracy: 0.2607\n",
            "Epoch 6/30\n",
            "469/469 [==============================] - 38s 82ms/step - loss: 2.2702 - accuracy: 0.1784 - val_loss: 2.2537 - val_accuracy: 0.2799\n",
            "Epoch 7/30\n",
            "469/469 [==============================] - 39s 83ms/step - loss: 2.2619 - accuracy: 0.1897 - val_loss: 2.2432 - val_accuracy: 0.3034\n",
            "Epoch 8/30\n",
            "469/469 [==============================] - 39s 82ms/step - loss: 2.2537 - accuracy: 0.2006 - val_loss: 2.2317 - val_accuracy: 0.3304\n",
            "Epoch 9/30\n",
            "469/469 [==============================] - 40s 85ms/step - loss: 2.2426 - accuracy: 0.2140 - val_loss: 2.2189 - val_accuracy: 0.3584\n",
            "Epoch 10/30\n",
            "469/469 [==============================] - 40s 84ms/step - loss: 2.2324 - accuracy: 0.2266 - val_loss: 2.2047 - val_accuracy: 0.3852\n",
            "Epoch 11/30\n",
            "469/469 [==============================] - 42s 90ms/step - loss: 2.2203 - accuracy: 0.2338 - val_loss: 2.1889 - val_accuracy: 0.4184\n",
            "Epoch 12/30\n",
            "469/469 [==============================] - 40s 85ms/step - loss: 2.2068 - accuracy: 0.2479 - val_loss: 2.1714 - val_accuracy: 0.4468\n",
            "Epoch 13/30\n",
            "469/469 [==============================] - 40s 85ms/step - loss: 2.1924 - accuracy: 0.2589 - val_loss: 2.1519 - val_accuracy: 0.4816\n",
            "Epoch 14/30\n",
            "469/469 [==============================] - 40s 84ms/step - loss: 2.1774 - accuracy: 0.2674 - val_loss: 2.1307 - val_accuracy: 0.5130\n",
            "Epoch 15/30\n",
            "469/469 [==============================] - 39s 83ms/step - loss: 2.1587 - accuracy: 0.2781 - val_loss: 2.1069 - val_accuracy: 0.5446\n",
            "Epoch 16/30\n",
            "469/469 [==============================] - 41s 87ms/step - loss: 2.1406 - accuracy: 0.2886 - val_loss: 2.0810 - val_accuracy: 0.5710\n",
            "Epoch 17/30\n",
            "469/469 [==============================] - 38s 81ms/step - loss: 2.1239 - accuracy: 0.2948 - val_loss: 2.0535 - val_accuracy: 0.5993\n",
            "Epoch 18/30\n",
            "469/469 [==============================] - 40s 85ms/step - loss: 2.0984 - accuracy: 0.3107 - val_loss: 2.0229 - val_accuracy: 0.6211\n",
            "Epoch 19/30\n",
            "469/469 [==============================] - 40s 85ms/step - loss: 2.0759 - accuracy: 0.3221 - val_loss: 1.9905 - val_accuracy: 0.6406\n",
            "Epoch 20/30\n",
            "469/469 [==============================] - 39s 83ms/step - loss: 2.0499 - accuracy: 0.3321 - val_loss: 1.9557 - val_accuracy: 0.6583\n",
            "Epoch 21/30\n",
            "469/469 [==============================] - 41s 87ms/step - loss: 2.0244 - accuracy: 0.3430 - val_loss: 1.9191 - val_accuracy: 0.6720\n",
            "Epoch 22/30\n",
            "469/469 [==============================] - 39s 83ms/step - loss: 1.9982 - accuracy: 0.3501 - val_loss: 1.8809 - val_accuracy: 0.6846\n",
            "Epoch 23/30\n",
            "469/469 [==============================] - 40s 85ms/step - loss: 1.9696 - accuracy: 0.3588 - val_loss: 1.8407 - val_accuracy: 0.6950\n",
            "Epoch 24/30\n",
            "469/469 [==============================] - 39s 84ms/step - loss: 1.9404 - accuracy: 0.3684 - val_loss: 1.7991 - val_accuracy: 0.7049\n",
            "Epoch 25/30\n",
            "469/469 [==============================] - 40s 85ms/step - loss: 1.9114 - accuracy: 0.3779 - val_loss: 1.7565 - val_accuracy: 0.7129\n",
            "Epoch 26/30\n",
            "469/469 [==============================] - 40s 85ms/step - loss: 1.8806 - accuracy: 0.3890 - val_loss: 1.7127 - val_accuracy: 0.7252\n",
            "Epoch 27/30\n",
            "469/469 [==============================] - 38s 82ms/step - loss: 1.8487 - accuracy: 0.3986 - val_loss: 1.6678 - val_accuracy: 0.7371\n",
            "Epoch 28/30\n",
            "469/469 [==============================] - 40s 86ms/step - loss: 1.8188 - accuracy: 0.4076 - val_loss: 1.6227 - val_accuracy: 0.7481\n",
            "Epoch 29/30\n",
            "469/469 [==============================] - 40s 85ms/step - loss: 1.7888 - accuracy: 0.4177 - val_loss: 1.5777 - val_accuracy: 0.7556\n",
            "Epoch 30/30\n",
            "469/469 [==============================] - 40s 86ms/step - loss: 1.7537 - accuracy: 0.4305 - val_loss: 1.5330 - val_accuracy: 0.7648\n"
          ]
        }
      ]
    },
    {
      "cell_type": "markdown",
      "source": [
        "Evaluating the Model"
      ],
      "metadata": {
        "id": "uu3ZZPlRDaHj"
      }
    },
    {
      "cell_type": "code",
      "source": [
        "score = model.evaluate(x_test, y_test, verbose=0)\n",
        "print('Test loss: ', score[0])\n",
        "print('Test accuracy: ', score[1])"
      ],
      "metadata": {
        "colab": {
          "base_uri": "https://localhost:8080/"
        },
        "id": "emZMrQQ_Ddo8",
        "outputId": "631e0268-4c4b-4e9b-c5ad-0978f1dcacdd"
      },
      "execution_count": 11,
      "outputs": [
        {
          "output_type": "stream",
          "name": "stdout",
          "text": [
            "Test loss:  1.532994270324707\n",
            "Test accuracy:  0.7648000121116638\n"
          ]
        }
      ]
    }
  ]
}