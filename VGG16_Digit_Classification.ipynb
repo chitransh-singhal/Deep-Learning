{
  "cells": [
    {
      "cell_type": "markdown",
      "metadata": {
        "id": "view-in-github",
        "colab_type": "text"
      },
      "source": [
        "<a href=\"https://colab.research.google.com/github/chitransh-singhal/Deep-Learning/blob/master/VGG16_Digit_Classification.ipynb\" target=\"_parent\"><img src=\"https://colab.research.google.com/assets/colab-badge.svg\" alt=\"Open In Colab\"/></a>"
      ]
    },
    {
      "cell_type": "markdown",
      "source": [
        "## MNist Classification"
      ],
      "metadata": {
        "id": "4eAHgP4XPTnx"
      }
    },
    {
      "cell_type": "markdown",
      "source": [
        "MNIST Digit Classification using VGG16-Transfer Learning"
      ],
      "metadata": {
        "id": "Vqls32E4Pln6"
      }
    },
    {
      "cell_type": "markdown",
      "source": [
        "Import Essential Modules"
      ],
      "metadata": {
        "id": "vcykKJidPwKP"
      }
    },
    {
      "cell_type": "code",
      "source": [
        "import numpy as np\n",
        "import matplotlib.pyplot as plt\n",
        "from tensorflow import keras\n",
        "from keras.utils import to_categorical, plot_model\n",
        "from keras.preprocessing import image\n",
        "from keras import models, layers"
      ],
      "metadata": {
        "id": "E0nfqaNHPejS"
      },
      "execution_count": 2,
      "outputs": []
    },
    {
      "cell_type": "markdown",
      "source": [
        "Loading the MNIST Data"
      ],
      "metadata": {
        "id": "NKV7GBMoQnX6"
      }
    },
    {
      "cell_type": "code",
      "source": [
        "(x_train, y_train), (x_test, y_test) = keras.datasets.mnist.load_data()"
      ],
      "metadata": {
        "colab": {
          "base_uri": "https://localhost:8080/"
        },
        "id": "Xd-No0xSPfdN",
        "outputId": "25e4580a-e0ba-4083-ad20-74c2b603da58"
      },
      "execution_count": 3,
      "outputs": [
        {
          "output_type": "stream",
          "name": "stdout",
          "text": [
            "Downloading data from https://storage.googleapis.com/tensorflow/tf-keras-datasets/mnist.npz\n",
            "11490434/11490434 [==============================] - 0s 0us/step\n"
          ]
        }
      ]
    },
    {
      "cell_type": "code",
      "source": [
        "print(x_train.shape)\n",
        "print(y_train.shape)\n",
        "print(x_test.shape)\n",
        "print(y_test.shape)\n",
        "print(y_train)"
      ],
      "metadata": {
        "colab": {
          "base_uri": "https://localhost:8080/"
        },
        "id": "9uGspfAYPfom",
        "outputId": "61c36508-9a11-426c-b938-70c06d965935"
      },
      "execution_count": 4,
      "outputs": [
        {
          "output_type": "stream",
          "name": "stdout",
          "text": [
            "(60000, 28, 28)\n",
            "(60000,)\n",
            "(10000, 28, 28)\n",
            "(10000,)\n",
            "[5 0 4 ... 5 6 8]\n"
          ]
        }
      ]
    },
    {
      "cell_type": "markdown",
      "source": [
        "Processing the data to make it compatible with VGG16 model"
      ],
      "metadata": {
        "id": "cI_b2LekQ-w9"
      }
    },
    {
      "cell_type": "code",
      "source": [
        "x_train = np.dstack([x_train]*3)\n",
        "x_test = np.dstack([x_test]*3)\n",
        "x_train.shape, x_test.shape"
      ],
      "metadata": {
        "colab": {
          "base_uri": "https://localhost:8080/"
        },
        "id": "rarobV6rPf0m",
        "outputId": "f6c7ac8d-3434-449f-a80a-626085087033"
      },
      "execution_count": 5,
      "outputs": [
        {
          "output_type": "execute_result",
          "data": {
            "text/plain": [
              "((60000, 28, 84), (10000, 28, 84))"
            ]
          },
          "metadata": {},
          "execution_count": 5
        }
      ]
    },
    {
      "cell_type": "markdown",
      "source": [
        "Reshape images as per the tensor format required by tensorfow"
      ],
      "metadata": {
        "id": "Kue1NPf0Rin9"
      }
    },
    {
      "cell_type": "code",
      "source": [
        "x_train = x_train.reshape(-1,28,28,3)\n",
        "x_test = x_test.reshape(-1,28,28,3)\n",
        "x_train.shape, x_test.shape"
      ],
      "metadata": {
        "colab": {
          "base_uri": "https://localhost:8080/"
        },
        "id": "nvSM88M5PgSk",
        "outputId": "cf1eb5b9-0d90-41e0-b189-4c2e2872d1aa"
      },
      "execution_count": 6,
      "outputs": [
        {
          "output_type": "execute_result",
          "data": {
            "text/plain": [
              "((60000, 28, 28, 3), (10000, 28, 28, 3))"
            ]
          },
          "metadata": {},
          "execution_count": 6
        }
      ]
    },
    {
      "cell_type": "markdown",
      "source": [
        "Resizing the images into 48*48 as required for VGG16"
      ],
      "metadata": {
        "id": "QqHFEL5aR3n6"
      }
    },
    {
      "cell_type": "code",
      "source": [
        "from keras.preprocessing.image import img_to_array, array_to_img\n",
        "\n",
        "x_train = np.asarray([img_to_array(array_to_img(im, scale=False).\n",
        "                                   resize((48,48))) for im in x_train])\n",
        "x_test = np.asarray([img_to_array(array_to_img(im, scale=False).\n",
        "                                   resize((48,48))) for im in x_test])\n",
        "x_train.shape, x_test.shape"
      ],
      "metadata": {
        "colab": {
          "base_uri": "https://localhost:8080/"
        },
        "id": "Lrwe9CytR99A",
        "outputId": "06ed0c68-d34c-46ad-b678-6d24b773b6c8"
      },
      "execution_count": 7,
      "outputs": [
        {
          "output_type": "execute_result",
          "data": {
            "text/plain": [
              "((60000, 48, 48, 3), (10000, 48, 48, 3))"
            ]
          },
          "metadata": {},
          "execution_count": 7
        }
      ]
    },
    {
      "cell_type": "markdown",
      "source": [
        "Preparing the data for VGG16 model"
      ],
      "metadata": {
        "id": "-TvEnsNgSlbH"
      }
    },
    {
      "cell_type": "code",
      "source": [
        "from sklearn.model_selection import train_test_split\n",
        "\n",
        "x=[]\n",
        "x=x_train\n",
        "y=[]\n",
        "y=y_train\n",
        "\n",
        "y=to_categorical(y)\n",
        "x=np.array(x)\n",
        "\n",
        "x_train, x_test, y_train, y_test = train_test_split(x,y,test_size=0.2,random_state=5)"
      ],
      "metadata": {
        "id": "8bcxYJ9DR-t0"
      },
      "execution_count": 8,
      "outputs": []
    },
    {
      "cell_type": "markdown",
      "source": [
        "Defing the model using Transfer Learning"
      ],
      "metadata": {
        "id": "t1JK4mGPTL97"
      }
    },
    {
      "cell_type": "code",
      "source": [
        "from keras.applications import VGG16\n",
        "model_vgg = VGG16(weights='imagenet')"
      ],
      "metadata": {
        "colab": {
          "base_uri": "https://localhost:8080/"
        },
        "id": "KwMBJ_YWR-o3",
        "outputId": "bcd48727-aa5d-4aff-de56-0724d4c7daee"
      },
      "execution_count": 9,
      "outputs": [
        {
          "output_type": "stream",
          "name": "stdout",
          "text": [
            "Downloading data from https://storage.googleapis.com/tensorflow/keras-applications/vgg16/vgg16_weights_tf_dim_ordering_tf_kernels.h5\n",
            "553467096/553467096 [==============================] - 8s 0us/step\n"
          ]
        }
      ]
    },
    {
      "cell_type": "markdown",
      "source": [
        "Adding the input layer to the model"
      ],
      "metadata": {
        "id": "Ha2gD9s3Te_H"
      }
    },
    {
      "cell_type": "code",
      "source": [
        "inp_layer = layers.Input(shape=(48,48,3))\n",
        "model_vgg = VGG16(weights='imagenet', input_tensor=inp_layer, include_top=False)"
      ],
      "metadata": {
        "colab": {
          "base_uri": "https://localhost:8080/"
        },
        "id": "Yzi8Y1FOR-hB",
        "outputId": "4abeca4b-e586-4ac1-eaf8-49ab0a0126fb"
      },
      "execution_count": 10,
      "outputs": [
        {
          "output_type": "stream",
          "name": "stdout",
          "text": [
            "Downloading data from https://storage.googleapis.com/tensorflow/keras-applications/vgg16/vgg16_weights_tf_dim_ordering_tf_kernels_notop.h5\n",
            "58889256/58889256 [==============================] - 1s 0us/step\n"
          ]
        }
      ]
    },
    {
      "cell_type": "markdown",
      "source": [
        "Adding the output layers"
      ],
      "metadata": {
        "id": "BbdOMU68T-Rg"
      }
    },
    {
      "cell_type": "code",
      "source": [
        "last_layer = model_vgg.output\n",
        "flatten = layers.Flatten()(last_layer)\n",
        "dense1 = layers.Dense(100, activation='relu')(flatten)\n",
        "dense1 = layers.Dense(100, activation='relu')(flatten)\n",
        "dense1 = layers.Dense(100, activation='relu')(flatten)\n",
        "output_layer = layers.Dense(10, activation='softmax')(flatten)\n",
        "\n",
        "model = models.Model(inputs=inp_layer, outputs = output_layer)"
      ],
      "metadata": {
        "id": "ysJIw8GoR-eK"
      },
      "execution_count": 11,
      "outputs": []
    },
    {
      "cell_type": "markdown",
      "source": [
        "We are making all the layers intrainable except the last layer"
      ],
      "metadata": {
        "id": "RK5UvLIYUzX0"
      }
    },
    {
      "cell_type": "code",
      "source": [
        "for layer in model.layers[:-1]:\n",
        "  layer.trainable = False"
      ],
      "metadata": {
        "id": "Wbl0BWCAU70-"
      },
      "execution_count": 12,
      "outputs": []
    },
    {
      "cell_type": "markdown",
      "source": [
        "Compile the model"
      ],
      "metadata": {
        "id": "Hm9ZfX2eVIM3"
      }
    },
    {
      "cell_type": "code",
      "source": [
        "model.compile(loss='categorical_crossentropy', optimizer='adam', metrics = ['accuracy'])\n",
        "print(\"Model compilation completed.\")\n",
        "model.summary()"
      ],
      "metadata": {
        "colab": {
          "base_uri": "https://localhost:8080/"
        },
        "id": "EprRf4h9U7m3",
        "outputId": "fdea21eb-2bb7-48d0-e9af-86b4b4409a43"
      },
      "execution_count": 13,
      "outputs": [
        {
          "output_type": "stream",
          "name": "stdout",
          "text": [
            "Model compilation completed.\n",
            "Model: \"model\"\n",
            "_________________________________________________________________\n",
            " Layer (type)                Output Shape              Param #   \n",
            "=================================================================\n",
            " input_2 (InputLayer)        [(None, 48, 48, 3)]       0         \n",
            "                                                                 \n",
            " block1_conv1 (Conv2D)       (None, 48, 48, 64)        1792      \n",
            "                                                                 \n",
            " block1_conv2 (Conv2D)       (None, 48, 48, 64)        36928     \n",
            "                                                                 \n",
            " block1_pool (MaxPooling2D)  (None, 24, 24, 64)        0         \n",
            "                                                                 \n",
            " block2_conv1 (Conv2D)       (None, 24, 24, 128)       73856     \n",
            "                                                                 \n",
            " block2_conv2 (Conv2D)       (None, 24, 24, 128)       147584    \n",
            "                                                                 \n",
            " block2_pool (MaxPooling2D)  (None, 12, 12, 128)       0         \n",
            "                                                                 \n",
            " block3_conv1 (Conv2D)       (None, 12, 12, 256)       295168    \n",
            "                                                                 \n",
            " block3_conv2 (Conv2D)       (None, 12, 12, 256)       590080    \n",
            "                                                                 \n",
            " block3_conv3 (Conv2D)       (None, 12, 12, 256)       590080    \n",
            "                                                                 \n",
            " block3_pool (MaxPooling2D)  (None, 6, 6, 256)         0         \n",
            "                                                                 \n",
            " block4_conv1 (Conv2D)       (None, 6, 6, 512)         1180160   \n",
            "                                                                 \n",
            " block4_conv2 (Conv2D)       (None, 6, 6, 512)         2359808   \n",
            "                                                                 \n",
            " block4_conv3 (Conv2D)       (None, 6, 6, 512)         2359808   \n",
            "                                                                 \n",
            " block4_pool (MaxPooling2D)  (None, 3, 3, 512)         0         \n",
            "                                                                 \n",
            " block5_conv1 (Conv2D)       (None, 3, 3, 512)         2359808   \n",
            "                                                                 \n",
            " block5_conv2 (Conv2D)       (None, 3, 3, 512)         2359808   \n",
            "                                                                 \n",
            " block5_conv3 (Conv2D)       (None, 3, 3, 512)         2359808   \n",
            "                                                                 \n",
            " block5_pool (MaxPooling2D)  (None, 1, 1, 512)         0         \n",
            "                                                                 \n",
            " flatten (Flatten)           (None, 512)               0         \n",
            "                                                                 \n",
            " dense_3 (Dense)             (None, 10)                5130      \n",
            "                                                                 \n",
            "=================================================================\n",
            "Total params: 14719818 (56.15 MB)\n",
            "Trainable params: 5130 (20.04 KB)\n",
            "Non-trainable params: 14714688 (56.13 MB)\n",
            "_________________________________________________________________\n"
          ]
        }
      ]
    },
    {
      "cell_type": "markdown",
      "source": [
        "Model fitting"
      ],
      "metadata": {
        "id": "bwrw8MD1VhdJ"
      }
    },
    {
      "cell_type": "code",
      "source": [
        "history = model.fit(x_train, y_train, epochs=20, batch_size=128, verbose=True, validation_data=(x_test, y_test))"
      ],
      "metadata": {
        "colab": {
          "base_uri": "https://localhost:8080/"
        },
        "id": "TLGRv2duU7cm",
        "outputId": "5f62cd32-1e15-4211-c6ba-4c2001aa3b19"
      },
      "execution_count": 14,
      "outputs": [
        {
          "output_type": "stream",
          "name": "stdout",
          "text": [
            "Epoch 1/20\n",
            "375/375 [==============================] - 1461s 4s/step - loss: 2.2129 - accuracy: 0.7118 - val_loss: 0.6203 - val_accuracy: 0.8560\n",
            "Epoch 2/20\n",
            "375/375 [==============================] - 1464s 4s/step - loss: 0.4897 - accuracy: 0.8774 - val_loss: 0.4010 - val_accuracy: 0.8965\n",
            "Epoch 3/20\n",
            "375/375 [==============================] - 1452s 4s/step - loss: 0.3534 - accuracy: 0.9023 - val_loss: 0.3334 - val_accuracy: 0.9043\n",
            "Epoch 4/20\n",
            "375/375 [==============================] - 1451s 4s/step - loss: 0.2970 - accuracy: 0.9143 - val_loss: 0.3055 - val_accuracy: 0.9104\n",
            "Epoch 5/20\n",
            "375/375 [==============================] - 1453s 4s/step - loss: 0.2685 - accuracy: 0.9205 - val_loss: 0.2808 - val_accuracy: 0.9182\n",
            "Epoch 6/20\n",
            "375/375 [==============================] - 1449s 4s/step - loss: 0.2549 - accuracy: 0.9230 - val_loss: 0.2679 - val_accuracy: 0.9218\n",
            "Epoch 7/20\n",
            "375/375 [==============================] - 1454s 4s/step - loss: 0.2454 - accuracy: 0.9246 - val_loss: 0.2652 - val_accuracy: 0.9213\n",
            "Epoch 8/20\n",
            "375/375 [==============================] - 1465s 4s/step - loss: 0.2388 - accuracy: 0.9271 - val_loss: 0.2691 - val_accuracy: 0.9198\n",
            "Epoch 9/20\n",
            "375/375 [==============================] - 1472s 4s/step - loss: 0.2350 - accuracy: 0.9268 - val_loss: 0.2783 - val_accuracy: 0.9172\n",
            "Epoch 10/20\n",
            "375/375 [==============================] - 1459s 4s/step - loss: 0.2306 - accuracy: 0.9268 - val_loss: 0.2799 - val_accuracy: 0.9163\n",
            "Epoch 11/20\n",
            "375/375 [==============================] - 1453s 4s/step - loss: 0.2311 - accuracy: 0.9268 - val_loss: 0.3008 - val_accuracy: 0.9132\n",
            "Epoch 12/20\n",
            "375/375 [==============================] - 1455s 4s/step - loss: 0.2307 - accuracy: 0.9286 - val_loss: 0.2703 - val_accuracy: 0.9217\n",
            "Epoch 13/20\n",
            "375/375 [==============================] - 1453s 4s/step - loss: 0.2271 - accuracy: 0.9286 - val_loss: 0.2753 - val_accuracy: 0.9212\n",
            "Epoch 14/20\n",
            "375/375 [==============================] - 1479s 4s/step - loss: 0.2237 - accuracy: 0.9306 - val_loss: 0.2693 - val_accuracy: 0.9204\n",
            "Epoch 15/20\n",
            "375/375 [==============================] - 1481s 4s/step - loss: 0.2248 - accuracy: 0.9289 - val_loss: 0.2613 - val_accuracy: 0.9258\n",
            "Epoch 16/20\n",
            "375/375 [==============================] - 1477s 4s/step - loss: 0.2224 - accuracy: 0.9298 - val_loss: 0.2811 - val_accuracy: 0.9198\n",
            "Epoch 17/20\n",
            "375/375 [==============================] - 1485s 4s/step - loss: 0.2272 - accuracy: 0.9282 - val_loss: 0.2884 - val_accuracy: 0.9173\n",
            "Epoch 18/20\n",
            "375/375 [==============================] - 1454s 4s/step - loss: 0.2226 - accuracy: 0.9298 - val_loss: 0.2644 - val_accuracy: 0.9264\n",
            "Epoch 19/20\n",
            "375/375 [==============================] - 1442s 4s/step - loss: 0.2229 - accuracy: 0.9308 - val_loss: 0.2915 - val_accuracy: 0.9179\n",
            "Epoch 20/20\n",
            "375/375 [==============================] - 1452s 4s/step - loss: 0.2216 - accuracy: 0.9305 - val_loss: 0.2640 - val_accuracy: 0.9230\n"
          ]
        }
      ]
    },
    {
      "cell_type": "markdown",
      "source": [
        "Evaluating the model"
      ],
      "metadata": {
        "id": "Bz129QEtV1yN"
      }
    },
    {
      "cell_type": "code",
      "source": [
        "loss, accuracy = model.evaluate(x_test, y_test, verbose=1)"
      ],
      "metadata": {
        "colab": {
          "base_uri": "https://localhost:8080/"
        },
        "id": "AOA_1iI_V0yh",
        "outputId": "0c7e87da-2272-4ffc-9745-319f066f43fd"
      },
      "execution_count": 15,
      "outputs": [
        {
          "output_type": "stream",
          "name": "stdout",
          "text": [
            "375/375 [==============================] - 287s 765ms/step - loss: 0.2640 - accuracy: 0.9230\n"
          ]
        }
      ]
    },
    {
      "cell_type": "code",
      "source": [
        "print(\"The loss is \",loss,\"And the accuracy is \", accuracy)"
      ],
      "metadata": {
        "colab": {
          "base_uri": "https://localhost:8080/"
        },
        "id": "vJlGaH24U7AZ",
        "outputId": "7e6291e6-526b-434e-ce9c-d3e36f6de2e6"
      },
      "execution_count": 16,
      "outputs": [
        {
          "metadata": {
            "tags": null
          },
          "name": "stdout",
          "output_type": "stream",
          "text": [
            "The loss is  0.26401281356811523 And the accuracy is  0.9229999780654907\n"
          ]
        }
      ]
    }
  ],
  "metadata": {
    "kernelspec": {
      "display_name": "Python 3",
      "name": "python3"
    },
    "language_info": {
      "codemirror_mode": {
        "name": "ipython",
        "version": 3
      },
      "file_extension": ".py",
      "mimetype": "text/x-python",
      "name": "python",
      "nbconvert_exporter": "python",
      "pygments_lexer": "ipython3",
      "version": "3.11.1"
    },
    "colab": {
      "provenance": [],
      "include_colab_link": true
    }
  },
  "nbformat": 4,
  "nbformat_minor": 0
}