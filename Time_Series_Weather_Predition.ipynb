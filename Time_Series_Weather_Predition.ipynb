{
 "cells": [
  {
   "cell_type": "markdown",
   "metadata": {},
   "source": [
    "## Time Series Weather Prediction using LSTM"
   ]
  },
  {
   "cell_type": "markdown",
   "metadata": {},
   "source": [
    "Importing Modules"
   ]
  },
  {
   "cell_type": "code",
   "execution_count": 19,
   "metadata": {},
   "outputs": [],
   "source": [
    "import numpy as np\n",
    "import pandas as pd\n",
    "import matplotlib as mpl\n",
    "import matplotlib.pyplot as plt\n",
    "\n",
    "import os\n",
    "\n",
    "import tensorflow as tf\n",
    "from keras.models import Sequential\n",
    "from keras.layers import Dropout, LSTM, Dense"
   ]
  },
  {
   "cell_type": "markdown",
   "metadata": {},
   "source": [
    "The weather dataset we are using in this notebook is from Max Plank Institute for Biogeochemistry\n",
    "This dataset contains 14 different features such as air temperature, atmospheric pressure, and humidity. With frequency of 10 minutes, beginning in 2003, from François Chollet for his book Deep Learning with Python."
   ]
  },
  {
   "cell_type": "markdown",
   "metadata": {},
   "source": [
    "Loading the Data"
   ]
  },
  {
   "cell_type": "code",
   "execution_count": 20,
   "metadata": {},
   "outputs": [],
   "source": [
    "zip_path = tf.keras.utils.get_file(origin='https://storage.googleapis.com/tensorflow/tf-keras-datasets/jena_climate_2009_2016.csv.zip',\n",
    "    fname='jena_climate_2009_2016.csv.zip',\n",
    "    extract=True)\n",
    "csv_path, _ = os.path.splitext(zip_path)"
   ]
  },
  {
   "cell_type": "code",
   "execution_count": 21,
   "metadata": {},
   "outputs": [
    {
     "data": {
      "text/html": [
       "<div>\n",
       "<style scoped>\n",
       "    .dataframe tbody tr th:only-of-type {\n",
       "        vertical-align: middle;\n",
       "    }\n",
       "\n",
       "    .dataframe tbody tr th {\n",
       "        vertical-align: top;\n",
       "    }\n",
       "\n",
       "    .dataframe thead th {\n",
       "        text-align: right;\n",
       "    }\n",
       "</style>\n",
       "<table border=\"1\" class=\"dataframe\">\n",
       "  <thead>\n",
       "    <tr style=\"text-align: right;\">\n",
       "      <th></th>\n",
       "      <th>Date Time</th>\n",
       "      <th>p (mbar)</th>\n",
       "      <th>T (degC)</th>\n",
       "      <th>Tpot (K)</th>\n",
       "      <th>Tdew (degC)</th>\n",
       "      <th>rh (%)</th>\n",
       "      <th>VPmax (mbar)</th>\n",
       "      <th>VPact (mbar)</th>\n",
       "      <th>VPdef (mbar)</th>\n",
       "      <th>sh (g/kg)</th>\n",
       "      <th>H2OC (mmol/mol)</th>\n",
       "      <th>rho (g/m**3)</th>\n",
       "      <th>wv (m/s)</th>\n",
       "      <th>max. wv (m/s)</th>\n",
       "      <th>wd (deg)</th>\n",
       "    </tr>\n",
       "  </thead>\n",
       "  <tbody>\n",
       "    <tr>\n",
       "      <th>0</th>\n",
       "      <td>01.01.2009 00:10:00</td>\n",
       "      <td>996.52</td>\n",
       "      <td>-8.02</td>\n",
       "      <td>265.40</td>\n",
       "      <td>-8.90</td>\n",
       "      <td>93.3</td>\n",
       "      <td>3.33</td>\n",
       "      <td>3.11</td>\n",
       "      <td>0.22</td>\n",
       "      <td>1.94</td>\n",
       "      <td>3.12</td>\n",
       "      <td>1307.75</td>\n",
       "      <td>1.03</td>\n",
       "      <td>1.75</td>\n",
       "      <td>152.3</td>\n",
       "    </tr>\n",
       "    <tr>\n",
       "      <th>1</th>\n",
       "      <td>01.01.2009 00:20:00</td>\n",
       "      <td>996.57</td>\n",
       "      <td>-8.41</td>\n",
       "      <td>265.01</td>\n",
       "      <td>-9.28</td>\n",
       "      <td>93.4</td>\n",
       "      <td>3.23</td>\n",
       "      <td>3.02</td>\n",
       "      <td>0.21</td>\n",
       "      <td>1.89</td>\n",
       "      <td>3.03</td>\n",
       "      <td>1309.80</td>\n",
       "      <td>0.72</td>\n",
       "      <td>1.50</td>\n",
       "      <td>136.1</td>\n",
       "    </tr>\n",
       "    <tr>\n",
       "      <th>2</th>\n",
       "      <td>01.01.2009 00:30:00</td>\n",
       "      <td>996.53</td>\n",
       "      <td>-8.51</td>\n",
       "      <td>264.91</td>\n",
       "      <td>-9.31</td>\n",
       "      <td>93.9</td>\n",
       "      <td>3.21</td>\n",
       "      <td>3.01</td>\n",
       "      <td>0.20</td>\n",
       "      <td>1.88</td>\n",
       "      <td>3.02</td>\n",
       "      <td>1310.24</td>\n",
       "      <td>0.19</td>\n",
       "      <td>0.63</td>\n",
       "      <td>171.6</td>\n",
       "    </tr>\n",
       "    <tr>\n",
       "      <th>3</th>\n",
       "      <td>01.01.2009 00:40:00</td>\n",
       "      <td>996.51</td>\n",
       "      <td>-8.31</td>\n",
       "      <td>265.12</td>\n",
       "      <td>-9.07</td>\n",
       "      <td>94.2</td>\n",
       "      <td>3.26</td>\n",
       "      <td>3.07</td>\n",
       "      <td>0.19</td>\n",
       "      <td>1.92</td>\n",
       "      <td>3.08</td>\n",
       "      <td>1309.19</td>\n",
       "      <td>0.34</td>\n",
       "      <td>0.50</td>\n",
       "      <td>198.0</td>\n",
       "    </tr>\n",
       "    <tr>\n",
       "      <th>4</th>\n",
       "      <td>01.01.2009 00:50:00</td>\n",
       "      <td>996.51</td>\n",
       "      <td>-8.27</td>\n",
       "      <td>265.15</td>\n",
       "      <td>-9.04</td>\n",
       "      <td>94.1</td>\n",
       "      <td>3.27</td>\n",
       "      <td>3.08</td>\n",
       "      <td>0.19</td>\n",
       "      <td>1.92</td>\n",
       "      <td>3.09</td>\n",
       "      <td>1309.00</td>\n",
       "      <td>0.32</td>\n",
       "      <td>0.63</td>\n",
       "      <td>214.3</td>\n",
       "    </tr>\n",
       "  </tbody>\n",
       "</table>\n",
       "</div>"
      ],
      "text/plain": [
       "             Date Time  p (mbar)  T (degC)  Tpot (K)  Tdew (degC)  rh (%)  \\\n",
       "0  01.01.2009 00:10:00    996.52     -8.02    265.40        -8.90    93.3   \n",
       "1  01.01.2009 00:20:00    996.57     -8.41    265.01        -9.28    93.4   \n",
       "2  01.01.2009 00:30:00    996.53     -8.51    264.91        -9.31    93.9   \n",
       "3  01.01.2009 00:40:00    996.51     -8.31    265.12        -9.07    94.2   \n",
       "4  01.01.2009 00:50:00    996.51     -8.27    265.15        -9.04    94.1   \n",
       "\n",
       "   VPmax (mbar)  VPact (mbar)  VPdef (mbar)  sh (g/kg)  H2OC (mmol/mol)  \\\n",
       "0          3.33          3.11          0.22       1.94             3.12   \n",
       "1          3.23          3.02          0.21       1.89             3.03   \n",
       "2          3.21          3.01          0.20       1.88             3.02   \n",
       "3          3.26          3.07          0.19       1.92             3.08   \n",
       "4          3.27          3.08          0.19       1.92             3.09   \n",
       "\n",
       "   rho (g/m**3)  wv (m/s)  max. wv (m/s)  wd (deg)  \n",
       "0       1307.75      1.03           1.75     152.3  \n",
       "1       1309.80      0.72           1.50     136.1  \n",
       "2       1310.24      0.19           0.63     171.6  \n",
       "3       1309.19      0.34           0.50     198.0  \n",
       "4       1309.00      0.32           0.63     214.3  "
      ]
     },
     "execution_count": 21,
     "metadata": {},
     "output_type": "execute_result"
    }
   ],
   "source": [
    "df = pd.read_csv(csv_path)\n",
    "df.head()"
   ]
  },
  {
   "cell_type": "code",
   "execution_count": 22,
   "metadata": {},
   "outputs": [
    {
     "data": {
      "text/plain": [
       "(420551, 15)"
      ]
     },
     "execution_count": 22,
     "metadata": {},
     "output_type": "execute_result"
    }
   ],
   "source": [
    "df.shape"
   ]
  },
  {
   "cell_type": "code",
   "execution_count": 23,
   "metadata": {},
   "outputs": [],
   "source": [
    "TRAIN_SPLIT = 350000"
   ]
  },
  {
   "cell_type": "markdown",
   "metadata": {},
   "source": [
    "Setting seed to ensure reproducibility"
   ]
  },
  {
   "cell_type": "code",
   "execution_count": 24,
   "metadata": {},
   "outputs": [],
   "source": [
    "tf.random.set_seed(13)"
   ]
  },
  {
   "cell_type": "code",
   "execution_count": 25,
   "metadata": {},
   "outputs": [],
   "source": [
    "uni_data = df['T (degC)']\n",
    "uni_data.index = df['Date Time']"
   ]
  },
  {
   "cell_type": "code",
   "execution_count": 26,
   "metadata": {},
   "outputs": [],
   "source": [
    "uni_data_train = uni_data.values[:TRAIN_SPLIT]\n",
    "uni_data_test = uni_data.values[TRAIN_SPLIT:]"
   ]
  },
  {
   "cell_type": "code",
   "execution_count": 27,
   "metadata": {},
   "outputs": [
    {
     "name": "stdout",
     "output_type": "stream",
     "text": [
      "[-8.02 -8.41 -8.51 -8.31 -8.27]\n"
     ]
    }
   ],
   "source": [
    "print(uni_data_train[:5])"
   ]
  },
  {
   "cell_type": "code",
   "execution_count": 28,
   "metadata": {},
   "outputs": [],
   "source": [
    "uni_train_mean = uni_data_train.mean()\n",
    "uni_train_std = uni_data_train.std()\n",
    "uni_data_train = (uni_data_train-uni_train_mean)/uni_train_std"
   ]
  },
  {
   "cell_type": "code",
   "execution_count": 29,
   "metadata": {},
   "outputs": [
    {
     "data": {
      "text/plain": [
       "array([-2.02968527, -2.07521719, -2.08689204, -2.06354234, -2.0588724 ])"
      ]
     },
     "execution_count": 29,
     "metadata": {},
     "output_type": "execute_result"
    }
   ],
   "source": [
    "uni_data_train[:5]"
   ]
  },
  {
   "cell_type": "markdown",
   "metadata": {},
   "source": [
    "As you can see in the data, an observation is recorded every 10 minutes. This means that, for a single hour, you will have 6 observations. Similarly, a single day will contain 144 (6x24) observations.\n",
    "\n",
    "Given a specific time, let's say you want to predict the temperature 6 hours in the future. In order to make this prediction, you choose to use 5 days of observations. Thus, you would create a window containing the last 720(5x144) observations to train the model. Many such configurations are possible, making this dataset a good one to experiment with.\n",
    "\n",
    "The function below returns the above described windows of time for the model to train on. The parameter history_size is the size of the past window of information. The target_size is how far in the future does the model need to learn to predict. The target_size is the label that needs to be predicted."
   ]
  },
  {
   "cell_type": "code",
   "execution_count": 30,
   "metadata": {},
   "outputs": [],
   "source": [
    "x_train=[]\n",
    "y_train=[]\n",
    "\n",
    "i=720\n",
    "\n",
    "while i< len(uni_data_train):\n",
    "    x_train.append(uni_data_train[i-720:i])\n",
    "    y_train.append(uni_data_train[i])\n",
    "    i=i+720\n",
    "x_train, y_train = np.array(x_train), np.array(y_train)\n",
    "x_train = np.reshape(x_train, (x_train.shape[0], x_train.shape[1], 1))"
   ]
  },
  {
   "cell_type": "code",
   "execution_count": 31,
   "metadata": {},
   "outputs": [],
   "source": [
    "x_test=[]\n",
    "y_test=[]\n",
    "\n",
    "i=720\n",
    "\n",
    "while i< len(uni_data_test):\n",
    "    x_test.append(uni_data_test[i-720:i])\n",
    "    y_test.append(uni_data_test[i])\n",
    "    i=i+720\n",
    "x_test, y_test = np.array(x_test), np.array(y_test)\n",
    "x_test = np.reshape(x_test, (x_test.shape[0], x_test.shape[1], 1))"
   ]
  },
  {
   "cell_type": "code",
   "execution_count": 32,
   "metadata": {},
   "outputs": [
    {
     "name": "stdout",
     "output_type": "stream",
     "text": [
      "[[-2.56789584]\n",
      " [-2.34840867]\n",
      " [-1.56385878]\n",
      " [-1.43893789]\n",
      " [-1.47629741]]\n",
      "[-2.58540811 -2.34023627 -1.56502626 -1.45061274 -1.47629741]\n",
      "\n",
      "shape x_train =  (486, 720, 1)\n",
      "shape y_train =  (486,)\n",
      "\n",
      "shape x_test =  (97, 720, 1)\n",
      "shape y_test =  (97,)\n"
     ]
    }
   ],
   "source": [
    "print(x_train[:5,719])\n",
    "print(y_train[:5])\n",
    "print(\"\\nshape x_train = \",x_train.shape)\n",
    "print(\"shape y_train = \",y_train.shape)\n",
    "print(\"\\nshape x_test = \",x_test.shape)\n",
    "print(\"shape y_test = \",y_test.shape)"
   ]
  },
  {
   "cell_type": "markdown",
   "metadata": {},
   "source": [
    "Defining the model"
   ]
  },
  {
   "cell_type": "code",
   "execution_count": 33,
   "metadata": {},
   "outputs": [
    {
     "name": "stdout",
     "output_type": "stream",
     "text": [
      "Model: \"sequential_1\"\n",
      "_________________________________________________________________\n",
      " Layer (type)                Output Shape              Param #   \n",
      "=================================================================\n",
      " lstm_3 (LSTM)               (None, 720, 50)           10400     \n",
      "                                                                 \n",
      " dropout_3 (Dropout)         (None, 720, 50)           0         \n",
      "                                                                 \n",
      " lstm_4 (LSTM)               (None, 720, 50)           20200     \n",
      "                                                                 \n",
      " dropout_4 (Dropout)         (None, 720, 50)           0         \n",
      "                                                                 \n",
      " lstm_5 (LSTM)               (None, 50)                20200     \n",
      "                                                                 \n",
      " dropout_5 (Dropout)         (None, 50)                0         \n",
      "                                                                 \n",
      " dense_1 (Dense)             (None, 1)                 51        \n",
      "                                                                 \n",
      "=================================================================\n",
      "Total params: 50851 (198.64 KB)\n",
      "Trainable params: 50851 (198.64 KB)\n",
      "Non-trainable params: 0 (0.00 Byte)\n",
      "_________________________________________________________________\n"
     ]
    }
   ],
   "source": [
    "model = Sequential()\n",
    "model.add(LSTM(units=50, return_sequences=True, input_shape=(x_train.shape[1], 1)))\n",
    "model.add(Dropout(0.2))\n",
    "model.add(LSTM(units=50, return_sequences=True))\n",
    "model.add(Dropout(0.2))\n",
    "model.add(LSTM(units=50))\n",
    "model.add(Dropout(0.2))\n",
    "model.add(Dense(units=1))\n",
    "model.summary()"
   ]
  },
  {
   "cell_type": "code",
   "execution_count": 34,
   "metadata": {},
   "outputs": [
    {
     "name": "stdout",
     "output_type": "stream",
     "text": [
      "Epoch 1/50\n",
      "16/16 [==============================] - 38s 1s/step - loss: 0.3272\n",
      "Epoch 2/50\n",
      "16/16 [==============================] - 22s 1s/step - loss: 0.0873\n",
      "Epoch 3/50\n",
      "16/16 [==============================] - 22s 1s/step - loss: 0.0419\n",
      "Epoch 4/50\n",
      "16/16 [==============================] - 19s 1s/step - loss: 0.0281\n",
      "Epoch 5/50\n",
      "16/16 [==============================] - 26s 2s/step - loss: 0.0283\n",
      "Epoch 6/50\n",
      "16/16 [==============================] - 19s 1s/step - loss: 0.0219\n",
      "Epoch 7/50\n",
      "16/16 [==============================] - 18s 1s/step - loss: 0.0221\n",
      "Epoch 8/50\n",
      "16/16 [==============================] - 19s 1s/step - loss: 0.0243\n",
      "Epoch 9/50\n",
      "16/16 [==============================] - 20s 1s/step - loss: 0.0267\n",
      "Epoch 10/50\n",
      "16/16 [==============================] - 22s 1s/step - loss: 0.0259\n",
      "Epoch 11/50\n",
      "16/16 [==============================] - 17s 1s/step - loss: 0.0171\n",
      "Epoch 12/50\n",
      "16/16 [==============================] - 17s 1s/step - loss: 0.0200\n",
      "Epoch 13/50\n",
      "16/16 [==============================] - 19s 1s/step - loss: 0.0173\n",
      "Epoch 14/50\n",
      "16/16 [==============================] - 18s 1s/step - loss: 0.0163\n",
      "Epoch 15/50\n",
      "16/16 [==============================] - 19s 1s/step - loss: 0.0158\n",
      "Epoch 16/50\n",
      "16/16 [==============================] - 17s 1s/step - loss: 0.0152\n",
      "Epoch 17/50\n",
      "16/16 [==============================] - 18s 1s/step - loss: 0.0161\n",
      "Epoch 18/50\n",
      "16/16 [==============================] - 17s 1s/step - loss: 0.0156\n",
      "Epoch 19/50\n",
      "16/16 [==============================] - 17s 1s/step - loss: 0.0171\n",
      "Epoch 20/50\n",
      "16/16 [==============================] - 20s 1s/step - loss: 0.0166\n",
      "Epoch 21/50\n",
      "16/16 [==============================] - 18s 1s/step - loss: 0.0154\n",
      "Epoch 22/50\n",
      "16/16 [==============================] - 18s 1s/step - loss: 0.0165\n",
      "Epoch 23/50\n",
      "16/16 [==============================] - 16s 987ms/step - loss: 0.0174\n",
      "Epoch 24/50\n",
      "16/16 [==============================] - 16s 994ms/step - loss: 0.0201\n",
      "Epoch 25/50\n",
      "16/16 [==============================] - 17s 1s/step - loss: 0.0158\n",
      "Epoch 26/50\n",
      "16/16 [==============================] - 16s 975ms/step - loss: 0.0138\n",
      "Epoch 27/50\n",
      "16/16 [==============================] - 16s 1s/step - loss: 0.0150\n",
      "Epoch 28/50\n",
      "16/16 [==============================] - 16s 979ms/step - loss: 0.0125\n",
      "Epoch 29/50\n",
      "16/16 [==============================] - 18s 1s/step - loss: 0.0133\n",
      "Epoch 30/50\n",
      "16/16 [==============================] - 22s 1s/step - loss: 0.0135\n",
      "Epoch 31/50\n",
      "16/16 [==============================] - 20s 1s/step - loss: 0.0163\n",
      "Epoch 32/50\n",
      "16/16 [==============================] - 21s 1s/step - loss: 0.0166\n",
      "Epoch 33/50\n",
      "16/16 [==============================] - 21s 1s/step - loss: 0.0151\n",
      "Epoch 34/50\n",
      "16/16 [==============================] - 21s 1s/step - loss: 0.0133\n",
      "Epoch 35/50\n",
      "16/16 [==============================] - 20s 1s/step - loss: 0.0137\n",
      "Epoch 36/50\n",
      "16/16 [==============================] - 20s 1s/step - loss: 0.0167\n",
      "Epoch 37/50\n",
      "16/16 [==============================] - 20s 1s/step - loss: 0.0155\n",
      "Epoch 38/50\n",
      "16/16 [==============================] - 20s 1s/step - loss: 0.0128\n",
      "Epoch 39/50\n",
      "16/16 [==============================] - 21s 1s/step - loss: 0.0168\n",
      "Epoch 40/50\n",
      "16/16 [==============================] - 20s 1s/step - loss: 0.0142\n",
      "Epoch 41/50\n",
      "16/16 [==============================] - 20s 1s/step - loss: 0.0128\n",
      "Epoch 42/50\n",
      "16/16 [==============================] - 20s 1s/step - loss: 0.0154\n",
      "Epoch 43/50\n",
      "16/16 [==============================] - 20s 1s/step - loss: 0.0128\n",
      "Epoch 44/50\n",
      "16/16 [==============================] - 20s 1s/step - loss: 0.0164\n",
      "Epoch 45/50\n",
      "16/16 [==============================] - 19s 1s/step - loss: 0.0130\n",
      "Epoch 46/50\n",
      "16/16 [==============================] - 19s 1s/step - loss: 0.0115\n",
      "Epoch 47/50\n",
      "16/16 [==============================] - 19s 1s/step - loss: 0.0120\n",
      "Epoch 48/50\n",
      "16/16 [==============================] - 20s 1s/step - loss: 0.0129\n",
      "Epoch 49/50\n",
      "16/16 [==============================] - 20s 1s/step - loss: 0.0180\n",
      "Epoch 50/50\n",
      "16/16 [==============================] - 20s 1s/step - loss: 0.0114\n"
     ]
    },
    {
     "data": {
      "text/plain": [
       "<keras.src.callbacks.History at 0x15392f92c90>"
      ]
     },
     "execution_count": 34,
     "metadata": {},
     "output_type": "execute_result"
    }
   ],
   "source": [
    "model.compile(optimizer='adam', loss='mean_squared_error')\n",
    "model.fit(x_train, y_train, epochs=50, batch_size=32)"
   ]
  },
  {
   "cell_type": "code",
   "execution_count": 37,
   "metadata": {},
   "outputs": [
    {
     "name": "stdout",
     "output_type": "stream",
     "text": [
      "4/4 [==============================] - 1s 321ms/step - loss: 52.0364\n",
      "Test loss: 52.03643035888672\n"
     ]
    }
   ],
   "source": [
    "scores = model.evaluate(x_test, y_test)\n",
    "print(f'Test loss: {scores}')"
   ]
  }
 ],
 "metadata": {
  "kernelspec": {
   "display_name": "Python 3",
   "language": "python",
   "name": "python3"
  },
  "language_info": {
   "codemirror_mode": {
    "name": "ipython",
    "version": 3
   },
   "file_extension": ".py",
   "mimetype": "text/x-python",
   "name": "python",
   "nbconvert_exporter": "python",
   "pygments_lexer": "ipython3",
   "version": "3.11.1"
  }
 },
 "nbformat": 4,
 "nbformat_minor": 2
}
