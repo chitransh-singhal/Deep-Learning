{
  "cells": [
    {
      "cell_type": "markdown",
      "metadata": {
        "id": "sRP37obXE5vb"
      },
      "source": [
        "## Language translation using Seq-to-Seq model"
      ]
    },
    {
      "cell_type": "markdown",
      "metadata": {
        "id": "5jWcWD2yHJlm"
      },
      "source": [
        "Our aim is to translate sentences in German to English."
      ]
    },
    {
      "cell_type": "markdown",
      "metadata": {
        "id": "NL-uJ6s6HZpp"
      },
      "source": [
        "Importing the modules"
      ]
    },
    {
      "cell_type": "code",
      "execution_count": 1,
      "metadata": {
        "id": "Q2YQ-CuSE7hL"
      },
      "outputs": [
        {
          "name": "stdout",
          "output_type": "stream",
          "text": [
            "WARNING:tensorflow:From c:\\Users\\singh\\AppData\\Local\\Programs\\Python\\Python311\\Lib\\site-packages\\keras\\src\\losses.py:2976: The name tf.losses.sparse_softmax_cross_entropy is deprecated. Please use tf.compat.v1.losses.sparse_softmax_cross_entropy instead.\n",
            "\n"
          ]
        }
      ],
      "source": [
        "import string\n",
        "import re\n",
        "from numpy import array, argmax, random, take\n",
        "import pandas as pd\n",
        "import matplotlib.pyplot as plt\n",
        "from tensorflow.python import keras\n",
        "from keras.models import  Sequential, load_model\n",
        "from keras.layers import Dense, LSTM, Embedding, RepeatVector\n",
        "from keras_preprocessing.text import Tokenizer\n",
        "from keras.callbacks import ModelCheckpoint\n",
        "from keras.preprocessing.sequence import pad_sequences\n",
        "from keras import optimizers"
      ]
    },
    {
      "cell_type": "markdown",
      "metadata": {
        "id": "_XGo9rxAUM0x"
      },
      "source": [
        "Loading the data"
      ]
    },
    {
      "cell_type": "code",
      "execution_count": 2,
      "metadata": {
        "id": "ziQiwW2hE7ja"
      },
      "outputs": [],
      "source": [
        "def read_text(filename):\n",
        "  file = open(filename, mode='rt', encoding='utf-8')\n",
        "  text = file.read()\n",
        "  file.close()\n",
        "  return text"
      ]
    },
    {
      "cell_type": "code",
      "execution_count": 3,
      "metadata": {
        "id": "STEIxYBgE7nU"
      },
      "outputs": [],
      "source": [
        "def to_lines(text):\n",
        "  sents = text.strip().split('\\n')\n",
        "  sents = [i.split('\\t') for i in sents]\n",
        "  return sents"
      ]
    },
    {
      "cell_type": "code",
      "execution_count": 4,
      "metadata": {
        "id": "pZsSgi4OLFNQ"
      },
      "outputs": [],
      "source": [
        "data = read_text(\"./deu.txt\")\n",
        "deu_eng = to_lines(data)\n",
        "deu_eng = array(deu_eng)"
      ]
    },
    {
      "cell_type": "code",
      "execution_count": 5,
      "metadata": {
        "id": "9fNxsf6JOOk2"
      },
      "outputs": [],
      "source": [
        "deu_eng = deu_eng[:50000, :]"
      ]
    },
    {
      "cell_type": "markdown",
      "metadata": {
        "id": "TDV-IMk9Ukvs"
      },
      "source": [
        "Text Cleaning / Preprocessing"
      ]
    },
    {
      "cell_type": "code",
      "execution_count": 6,
      "metadata": {
        "colab": {
          "base_uri": "https://localhost:8080/"
        },
        "id": "GyxBYEuGE9oQ",
        "outputId": "cb62e842-08c0-471d-9c77-483972bf27fc"
      },
      "outputs": [
        {
          "data": {
            "text/plain": [
              "array([['Hi', 'Hallo'],\n",
              "       ['Hi', 'Grüß Gott'],\n",
              "       ['Run', 'Lauf'],\n",
              "       ['Wow', 'Potzdonner'],\n",
              "       ['Wow', 'Donnerwetter']], dtype='<U380')"
            ]
          },
          "execution_count": 6,
          "metadata": {},
          "output_type": "execute_result"
        }
      ],
      "source": [
        "#Removing punctuations\n",
        "deu_eng[:,0] = [s.translate(str.maketrans('','',string.punctuation)) for s in deu_eng[:,0]]\n",
        "deu_eng[:,1] = [s.translate(str.maketrans('','',string.punctuation)) for s in deu_eng[:,1]]\n",
        "\n",
        "deu_eng[:5]"
      ]
    },
    {
      "cell_type": "code",
      "execution_count": 7,
      "metadata": {
        "id": "2GkOHTBFPI-e"
      },
      "outputs": [],
      "source": [
        "for i in range(len(deu_eng)):\n",
        "  deu_eng[i,0] = deu_eng[i,0].lower()\n",
        "  deu_eng[i,1] = deu_eng[i,1].lower()"
      ]
    },
    {
      "cell_type": "code",
      "execution_count": 8,
      "metadata": {
        "colab": {
          "base_uri": "https://localhost:8080/",
          "height": 452
        },
        "id": "GswX5cPLE-n_",
        "outputId": "6d0f6fdf-9774-455d-aeb5-92724616f12b"
      },
      "outputs": [
        {
          "data": {
            "image/png": "[encoded data removed]",
            "text/plain": [
              "<Figure size 640x480 with 2 Axes>"
            ]
          },
          "metadata": {},
          "output_type": "display_data"
        }
      ],
      "source": [
        "eng_1 = []\n",
        "deu_1 = []\n",
        "\n",
        "#populating the lists with the sentence length\n",
        "for i in deu_eng[:,0]:\n",
        "  eng_1.append(len(i.split()))\n",
        "\n",
        "for i in deu_eng[:,1]:\n",
        "  deu_1.append(len(i.split()))\n",
        "\n",
        "length_df = pd.DataFrame({'eng':eng_1, 'deu':deu_1})\n",
        "length_df.hist(bins=30)\n",
        "plt.show()"
      ]
    },
    {
      "cell_type": "code",
      "execution_count": 9,
      "metadata": {
        "id": "Jva9gM8IQoQt"
      },
      "outputs": [],
      "source": [
        "def tokenization(lines):\n",
        "  tokenizer = Tokenizer()\n",
        "  tokenizer.fit_on_texts(lines)\n",
        "  return tokenizer"
      ]
    },
    {
      "cell_type": "code",
      "execution_count": 10,
      "metadata": {
        "colab": {
          "base_uri": "https://localhost:8080/"
        },
        "id": "--K5DFjKQ5JN",
        "outputId": "6d556db1-2fc9-4405-fb87-9afe64946dfa"
      },
      "outputs": [
        {
          "name": "stdout",
          "output_type": "stream",
          "text": [
            "English vocabulary size is 6794\n"
          ]
        }
      ],
      "source": [
        "eng_tokenizer = tokenization(deu_eng[:,0])\n",
        "eng_vocab_size = len(eng_tokenizer.word_index)+1\n",
        "\n",
        "eng_length = 8\n",
        "print('English vocabulary size is %d'% eng_vocab_size)"
      ]
    },
    {
      "cell_type": "code",
      "execution_count": 11,
      "metadata": {
        "colab": {
          "base_uri": "https://localhost:8080/"
        },
        "id": "z3XJWMqGRfeL",
        "outputId": "dccb9889-cdc2-4442-a8c5-8e2b949979a6"
      },
      "outputs": [
        {
          "name": "stdout",
          "output_type": "stream",
          "text": [
            "Deutch vocabulary size is 11814\n"
          ]
        }
      ],
      "source": [
        "deu_tokenizer = tokenization(deu_eng[:,1])\n",
        "deu_vocab_size = len(deu_tokenizer.word_index)+1\n",
        "\n",
        "deu_length = 8\n",
        "print('Deutch vocabulary size is %d'% deu_vocab_size)"
      ]
    },
    {
      "cell_type": "code",
      "execution_count": 12,
      "metadata": {
        "id": "_u3d2-d5TyL4"
      },
      "outputs": [],
      "source": [
        "def encode_sequences(tokenizer, length, lines):\n",
        "  seq = tokenizer.texts_to_sequences(lines)\n",
        "  seq = pad_sequences(seq, maxlen=length, padding='post')\n",
        "  return seq"
      ]
    },
    {
      "cell_type": "code",
      "execution_count": 13,
      "metadata": {
        "id": "VJIb-70BUpZV"
      },
      "outputs": [],
      "source": [
        "from sklearn.model_selection import train_test_split\n",
        "#splitting data into train and test set\n",
        "train,test = train_test_split(deu_eng, test_size=0.2, random_state=12)"
      ]
    },
    {
      "cell_type": "code",
      "execution_count": 14,
      "metadata": {
        "id": "4dL2jfriVjrq"
      },
      "outputs": [],
      "source": [
        "#preparing training and validation data\n",
        "x_train = encode_sequences(deu_tokenizer, deu_length, train[:, 1])\n",
        "y_train = encode_sequences(eng_tokenizer, eng_length, train[:, 0])\n",
        "\n",
        "x_test = encode_sequences(deu_tokenizer, deu_length, test[:, 1])\n",
        "y_test = encode_sequences(eng_tokenizer, eng_length, test[:, 0])"
      ]
    },
    {
      "cell_type": "markdown",
      "metadata": {
        "id": "vFSIBfnYYLdi"
      },
      "source": [
        "Defining the model"
      ]
    },
    {
      "cell_type": "code",
      "execution_count": 15,
      "metadata": {
        "id": "1S-XtDQuYRUe"
      },
      "outputs": [],
      "source": [
        "#build NMT model\n",
        "def define_model(in_vocab, out_vocab, in_timesteps, out_timesteps, units):\n",
        "  model = Sequential()\n",
        "  model.add(Embedding(in_vocab, units, input_length=in_timesteps, mask_zero=True))\n",
        "  model.add(LSTM(units))\n",
        "  model.add(RepeatVector(out_timesteps))\n",
        "  model.add(LSTM(units, return_sequences=True))\n",
        "  model.add(Dense(out_vocab, activation='softmax'))\n",
        "  return model"
      ]
    },
    {
      "cell_type": "code",
      "execution_count": 16,
      "metadata": {
        "colab": {
          "base_uri": "https://localhost:8080/"
        },
        "id": "H1q3EQF9YSmQ",
        "outputId": "f6d3776b-1585-4a51-b867-1b012692f7a4"
      },
      "outputs": [
        {
          "name": "stdout",
          "output_type": "stream",
          "text": [
            "WARNING:tensorflow:From c:\\Users\\singh\\AppData\\Local\\Programs\\Python\\Python311\\Lib\\site-packages\\keras\\src\\backend.py:873: The name tf.get_default_graph is deprecated. Please use tf.compat.v1.get_default_graph instead.\n",
            "\n"
          ]
        }
      ],
      "source": [
        "model = define_model(deu_vocab_size, eng_vocab_size, deu_length, eng_length, 512)"
      ]
    },
    {
      "cell_type": "code",
      "execution_count": 17,
      "metadata": {
        "id": "DiF-XK_IZJIQ"
      },
      "outputs": [],
      "source": [
        "rms = optimizers.RMSprop(learning_rate=0.001)\n",
        "model.compile(optimizer=rms, loss='sparse_categorical_crossentropy')"
      ]
    },
    {
      "cell_type": "markdown",
      "metadata": {
        "id": "RkW0Muy4jH6M"
      },
      "source": [
        "Fit the model"
      ]
    },
    {
      "cell_type": "code",
      "execution_count": 18,
      "metadata": {
        "colab": {
          "base_uri": "https://localhost:8080/"
        },
        "id": "6QZWuEDfjfEl",
        "outputId": "be792a3e-db36-4109-8bb1-5c9d94631de8"
      },
      "outputs": [
        {
          "name": "stdout",
          "output_type": "stream",
          "text": [
            "Epoch 1/30\n",
            "WARNING:tensorflow:From c:\\Users\\singh\\AppData\\Local\\Programs\\Python\\Python311\\Lib\\site-packages\\keras\\src\\utils\\tf_utils.py:492: The name tf.ragged.RaggedTensorValue is deprecated. Please use tf.compat.v1.ragged.RaggedTensorValue instead.\n",
            "\n",
            "125/125 [==============================] - ETA: 0s - loss: 4.1030\n",
            "Epoch 1: val_loss improved from inf to 3.31568, saving model to model_02_aug_24.keras\n",
            "125/125 [==============================] - 208s 2s/step - loss: 4.1030 - val_loss: 3.3157\n",
            "Epoch 2/30\n",
            "125/125 [==============================] - ETA: 0s - loss: 3.2685\n",
            "Epoch 2: val_loss improved from 3.31568 to 3.22259, saving model to model_02_aug_24.keras\n",
            "125/125 [==============================] - 205s 2s/step - loss: 3.2685 - val_loss: 3.2226\n",
            "Epoch 3/30\n",
            "125/125 [==============================] - ETA: 0s - loss: 3.2000\n",
            "Epoch 3: val_loss improved from 3.22259 to 3.18907, saving model to model_02_aug_24.keras\n",
            "125/125 [==============================] - 203s 2s/step - loss: 3.2000 - val_loss: 3.1891\n",
            "Epoch 4/30\n",
            "125/125 [==============================] - ETA: 0s - loss: 3.1659\n",
            "Epoch 4: val_loss improved from 3.18907 to 3.18380, saving model to model_02_aug_24.keras\n",
            "125/125 [==============================] - 202s 2s/step - loss: 3.1659 - val_loss: 3.1838\n",
            "Epoch 5/30\n",
            "125/125 [==============================] - ETA: 0s - loss: 3.1398\n",
            "Epoch 5: val_loss improved from 3.18380 to 3.14855, saving model to model_02_aug_24.keras\n",
            "125/125 [==============================] - 205s 2s/step - loss: 3.1398 - val_loss: 3.1485\n",
            "Epoch 6/30\n",
            "125/125 [==============================] - ETA: 0s - loss: 3.1063\n",
            "Epoch 6: val_loss improved from 3.14855 to 3.10746, saving model to model_02_aug_24.keras\n",
            "125/125 [==============================] - 202s 2s/step - loss: 3.1063 - val_loss: 3.1075\n",
            "Epoch 7/30\n",
            "125/125 [==============================] - ETA: 0s - loss: 3.0559\n",
            "Epoch 7: val_loss improved from 3.10746 to 3.06377, saving model to model_02_aug_24.keras\n",
            "125/125 [==============================] - 210s 2s/step - loss: 3.0559 - val_loss: 3.0638\n",
            "Epoch 8/30\n",
            "125/125 [==============================] - ETA: 0s - loss: 3.0130\n",
            "Epoch 8: val_loss improved from 3.06377 to 3.03730, saving model to model_02_aug_24.keras\n",
            "125/125 [==============================] - 205s 2s/step - loss: 3.0130 - val_loss: 3.0373\n",
            "Epoch 9/30\n",
            "125/125 [==============================] - ETA: 0s - loss: 2.9683\n",
            "Epoch 9: val_loss improved from 3.03730 to 3.00647, saving model to model_02_aug_24.keras\n",
            "125/125 [==============================] - 207s 2s/step - loss: 2.9683 - val_loss: 3.0065\n",
            "Epoch 10/30\n",
            "125/125 [==============================] - ETA: 0s - loss: 2.9281\n",
            "Epoch 10: val_loss improved from 3.00647 to 2.96084, saving model to model_02_aug_24.keras\n",
            "125/125 [==============================] - 209s 2s/step - loss: 2.9281 - val_loss: 2.9608\n",
            "Epoch 11/30\n",
            "125/125 [==============================] - ETA: 0s - loss: 2.8776\n",
            "Epoch 11: val_loss improved from 2.96084 to 2.89765, saving model to model_02_aug_24.keras\n",
            "125/125 [==============================] - 208s 2s/step - loss: 2.8776 - val_loss: 2.8977\n",
            "Epoch 12/30\n",
            "125/125 [==============================] - ETA: 0s - loss: 2.8273\n",
            "Epoch 12: val_loss improved from 2.89765 to 2.87054, saving model to model_02_aug_24.keras\n",
            "125/125 [==============================] - 214s 2s/step - loss: 2.8273 - val_loss: 2.8705\n",
            "Epoch 13/30\n",
            "125/125 [==============================] - ETA: 0s - loss: 2.7787\n",
            "Epoch 13: val_loss improved from 2.87054 to 2.81859, saving model to model_02_aug_24.keras\n",
            "125/125 [==============================] - 206s 2s/step - loss: 2.7787 - val_loss: 2.8186\n",
            "Epoch 14/30\n",
            "125/125 [==============================] - ETA: 0s - loss: 2.7291\n",
            "Epoch 14: val_loss improved from 2.81859 to 2.80008, saving model to model_02_aug_24.keras\n",
            "125/125 [==============================] - 204s 2s/step - loss: 2.7291 - val_loss: 2.8001\n",
            "Epoch 15/30\n",
            "125/125 [==============================] - ETA: 0s - loss: 2.6796\n",
            "Epoch 15: val_loss improved from 2.80008 to 2.78710, saving model to model_02_aug_24.keras\n",
            "125/125 [==============================] - 215s 2s/step - loss: 2.6796 - val_loss: 2.7871\n",
            "Epoch 16/30\n",
            "125/125 [==============================] - ETA: 0s - loss: 2.6338\n",
            "Epoch 16: val_loss improved from 2.78710 to 2.69123, saving model to model_02_aug_24.keras\n",
            "125/125 [==============================] - 215s 2s/step - loss: 2.6338 - val_loss: 2.6912\n",
            "Epoch 17/30\n",
            "125/125 [==============================] - ETA: 0s - loss: 2.5866\n",
            "Epoch 17: val_loss improved from 2.69123 to 2.63802, saving model to model_02_aug_24.keras\n",
            "125/125 [==============================] - 209s 2s/step - loss: 2.5866 - val_loss: 2.6380\n",
            "Epoch 18/30\n",
            "125/125 [==============================] - ETA: 0s - loss: 2.5415\n",
            "Epoch 18: val_loss improved from 2.63802 to 2.60203, saving model to model_02_aug_24.keras\n",
            "125/125 [==============================] - 224s 2s/step - loss: 2.5415 - val_loss: 2.6020\n",
            "Epoch 19/30\n",
            "125/125 [==============================] - ETA: 0s - loss: 2.4973\n",
            "Epoch 19: val_loss improved from 2.60203 to 2.57106, saving model to model_02_aug_24.keras\n",
            "125/125 [==============================] - 220s 2s/step - loss: 2.4973 - val_loss: 2.5711\n",
            "Epoch 20/30\n",
            "125/125 [==============================] - ETA: 0s - loss: 2.4548\n",
            "Epoch 20: val_loss improved from 2.57106 to 2.53563, saving model to model_02_aug_24.keras\n",
            "125/125 [==============================] - 215s 2s/step - loss: 2.4548 - val_loss: 2.5356\n",
            "Epoch 21/30\n",
            "125/125 [==============================] - ETA: 0s - loss: 2.4123\n",
            "Epoch 21: val_loss improved from 2.53563 to 2.53086, saving model to model_02_aug_24.keras\n",
            "125/125 [==============================] - 233s 2s/step - loss: 2.4123 - val_loss: 2.5309\n",
            "Epoch 22/30\n",
            "125/125 [==============================] - ETA: 0s - loss: 2.3723\n",
            "Epoch 22: val_loss improved from 2.53086 to 2.48229, saving model to model_02_aug_24.keras\n",
            "125/125 [==============================] - 218s 2s/step - loss: 2.3723 - val_loss: 2.4823\n",
            "Epoch 23/30\n",
            "125/125 [==============================] - ETA: 0s - loss: 2.3291\n",
            "Epoch 23: val_loss improved from 2.48229 to 2.44936, saving model to model_02_aug_24.keras\n",
            "125/125 [==============================] - 213s 2s/step - loss: 2.3291 - val_loss: 2.4494\n",
            "Epoch 24/30\n",
            "125/125 [==============================] - ETA: 0s - loss: 2.2844\n",
            "Epoch 24: val_loss improved from 2.44936 to 2.43861, saving model to model_02_aug_24.keras\n",
            "125/125 [==============================] - 210s 2s/step - loss: 2.2844 - val_loss: 2.4386\n",
            "Epoch 25/30\n",
            "125/125 [==============================] - ETA: 0s - loss: 2.2426\n",
            "Epoch 25: val_loss improved from 2.43861 to 2.36247, saving model to model_02_aug_24.keras\n",
            "125/125 [==============================] - 221s 2s/step - loss: 2.2426 - val_loss: 2.3625\n",
            "Epoch 26/30\n",
            "125/125 [==============================] - ETA: 0s - loss: 2.1989\n",
            "Epoch 26: val_loss improved from 2.36247 to 2.34538, saving model to model_02_aug_24.keras\n",
            "125/125 [==============================] - 224s 2s/step - loss: 2.1989 - val_loss: 2.3454\n",
            "Epoch 27/30\n",
            "125/125 [==============================] - ETA: 0s - loss: 2.1575\n",
            "Epoch 27: val_loss improved from 2.34538 to 2.30179, saving model to model_02_aug_24.keras\n",
            "125/125 [==============================] - 224s 2s/step - loss: 2.1575 - val_loss: 2.3018\n",
            "Epoch 28/30\n",
            "125/125 [==============================] - ETA: 0s - loss: 2.1139\n",
            "Epoch 28: val_loss improved from 2.30179 to 2.27827, saving model to model_02_aug_24.keras\n",
            "125/125 [==============================] - 222s 2s/step - loss: 2.1139 - val_loss: 2.2783\n",
            "Epoch 29/30\n",
            "125/125 [==============================] - ETA: 0s - loss: 2.0736\n",
            "Epoch 29: val_loss improved from 2.27827 to 2.24850, saving model to model_02_aug_24.keras\n",
            "125/125 [==============================] - 221s 2s/step - loss: 2.0736 - val_loss: 2.2485\n",
            "Epoch 30/30\n",
            "125/125 [==============================] - ETA: 0s - loss: 2.0330\n",
            "Epoch 30: val_loss improved from 2.24850 to 2.20539, saving model to model_02_aug_24.keras\n",
            "125/125 [==============================] - 214s 2s/step - loss: 2.0330 - val_loss: 2.2054\n"
          ]
        }
      ],
      "source": [
        "filename = 'model_02_aug_24.keras'\n",
        "checkpoint = ModelCheckpoint(filename, monitor='val_loss', verbose=1, save_best_only=True, mode='min')\n",
        "#training the model\n",
        "history = model.fit(x_train, y_train.reshape(y_train.shape[0], y_train.shape[1],1),\n",
        "                    epochs=30, batch_size=256, validation_split=0.2,\n",
        "                    callbacks=[checkpoint], verbose=1)"
      ]
    },
    {
      "cell_type": "markdown",
      "metadata": {
        "id": "3j_4wpX7juxx"
      },
      "source": [
        "Evaluating the model"
      ]
    },
    {
      "cell_type": "code",
      "execution_count": 19,
      "metadata": {
        "id": "tF5IKrtGjtu1"
      },
      "outputs": [
        {
          "data": {
            "image/png": "[encoded data removed]",
            "text/plain": [
              "<Figure size 640x480 with 1 Axes>"
            ]
          },
          "metadata": {},
          "output_type": "display_data"
        }
      ],
      "source": [
        "plt.plot(history.history['loss'])\n",
        "plt.plot(history.history['val_loss'])\n",
        "plt.legend(['train','validation'])\n",
        "plt.show()"
      ]
    },
    {
      "cell_type": "markdown",
      "metadata": {
        "id": "y2kQiSLIdFX9"
      },
      "source": [
        "Prediction on unseen data"
      ]
    },
    {
      "cell_type": "code",
      "execution_count": null,
      "metadata": {
        "id": "5dmv6xSycmNd"
      },
      "outputs": [],
      "source": [
        "model = load_model('model_02_aug_24.keras')\n",
        "pred_probs = model.predict(x_test.reshape((x_test.shape[0], x_test.shape[1])))\n",
        "pred_classes = pred_probs.argmax(axis=-1)"
      ]
    },
    {
      "cell_type": "code",
      "execution_count": 22,
      "metadata": {
        "id": "WLYeNJEDdIX4"
      },
      "outputs": [],
      "source": [
        "def get_word(n, tokenizer):\n",
        "  for word, index in tokenizer.word_index.items():\n",
        "    if index==n:\n",
        "      return word\n",
        "  return None"
      ]
    },
    {
      "cell_type": "code",
      "execution_count": null,
      "metadata": {
        "id": "WjRnPFpkdIQw"
      },
      "outputs": [],
      "source": [
        "pred_text = []\n",
        "for i in pred_classes:\n",
        "  temp = []\n",
        "  for j in range(len(i)):\n",
        "    t = get_word(i[j], eng_tokenizer)\n",
        "    if j>0:\n",
        "      if(t==get_word(i[j], eng_tokenizer)) or (t==None):\n",
        "        temp.append('')\n",
        "      else:\n",
        "        temp.append(t)\n",
        "    else:\n",
        "      if(t==None):\n",
        "        temp.append('')\n",
        "      else:\n",
        "        temp.append(t)\n",
        "  pred_text.append(' '.join(temp))"
      ]
    },
    {
      "cell_type": "code",
      "execution_count": null,
      "metadata": {
        "id": "fpriiwSaebKX"
      },
      "outputs": [],
      "source": [
        "pred_df = pd.DataFrame({'actual' : test[:,0], 'predicted':pred_text})"
      ]
    },
    {
      "cell_type": "code",
      "execution_count": null,
      "metadata": {
        "id": "R-ZeZNCiep_q"
      },
      "outputs": [],
      "source": [
        "pred_df.head(20)"
      ]
    }
  ],
  "metadata": {
    "colab": {
      "provenance": []
    },
    "kernelspec": {
      "display_name": "Python 3",
      "name": "python3"
    },
    "language_info": {
      "codemirror_mode": {
        "name": "ipython",
        "version": 3
      },
      "file_extension": ".py",
      "mimetype": "text/x-python",
      "name": "python",
      "nbconvert_exporter": "python",
      "pygments_lexer": "ipython3",
      "version": "3.11.1"
    }
  },
  "nbformat": 4,
  "nbformat_minor": 0
}
